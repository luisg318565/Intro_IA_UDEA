{
 "cells": [
  {
   "cell_type": "code",
   "execution_count": 1,
   "id": "3c10e4f6",
   "metadata": {},
   "outputs": [],
   "source": [
    "import pandas as pd"
   ]
  },
  {
   "cell_type": "code",
   "execution_count": 3,
   "id": "6994d19c",
   "metadata": {},
   "outputs": [],
   "source": [
    "# Ruta al archivo CSV (ajústala si tu archivo está en otra carpeta)\n",
    "csv_path = \"train.csv\"\n",
    "\n",
    "# Leer el archivo CSV\n",
    "df = pd.read_csv(csv_path)"
   ]
  },
  {
   "cell_type": "code",
   "execution_count": 4,
   "id": "74768664",
   "metadata": {},
   "outputs": [
    {
     "name": "stdout",
     "output_type": "stream",
     "text": [
      "🔍 Primeras filas del archivo :\n",
      "       ID  PERIODO         ESTU_PRGM_ACADEMICO ESTU_PRGM_DEPARTAMENTO  \\\n",
      "0  904256    20212                  ENFERMERIA                 BOGOTÁ   \n",
      "1  645256    20212                     DERECHO              ATLANTICO   \n",
      "2  308367    20203       MERCADEO Y PUBLICIDAD                 BOGOTÁ   \n",
      "3  470353    20195  ADMINISTRACION DE EMPRESAS              SANTANDER   \n",
      "4  989032    20212                  PSICOLOGIA              ANTIOQUIA   \n",
      "\n",
      "             ESTU_VALORMATRICULAUNIVERSIDAD ESTU_HORASSEMANATRABAJA  \\\n",
      "0  Entre 5.5 millones y menos de 7 millones       Menos de 10 horas   \n",
      "1  Entre 2.5 millones y menos de 4 millones                       0   \n",
      "2  Entre 2.5 millones y menos de 4 millones         Más de 30 horas   \n",
      "3  Entre 4 millones y menos de 5.5 millones                       0   \n",
      "4  Entre 2.5 millones y menos de 4 millones     Entre 21 y 30 horas   \n",
      "\n",
      "  FAMI_ESTRATOVIVIENDA FAMI_TIENEINTERNET                 FAMI_EDUCACIONPADRE  \\\n",
      "0            Estrato 3                 Si    Técnica o tecnológica incompleta   \n",
      "1            Estrato 3                 No      Técnica o tecnológica completa   \n",
      "2            Estrato 3                 Si  Secundaria (Bachillerato) completa   \n",
      "3            Estrato 4                 Si                             No sabe   \n",
      "4            Estrato 3                 Si                   Primaria completa   \n",
      "\n",
      "  FAMI_TIENELAVADORA  ... ESTU_PRIVADO_LIBERTAD ESTU_PAGOMATRICULAPROPIO  \\\n",
      "0                 Si  ...                     N                       No   \n",
      "1                 Si  ...                     N                       No   \n",
      "2                 Si  ...                     N                       No   \n",
      "3                 Si  ...                     N                       No   \n",
      "4                 Si  ...                     N                       No   \n",
      "\n",
      "  FAMI_TIENECOMPUTADOR FAMI_TIENEINTERNET.1  \\\n",
      "0                   Si                   Si   \n",
      "1                   Si                   No   \n",
      "2                   No                   Si   \n",
      "3                   Si                   Si   \n",
      "4                   Si                   Si   \n",
      "\n",
      "                  FAMI_EDUCACIONMADRE RENDIMIENTO_GLOBAL coef_1  coef_2  \\\n",
      "0                           Postgrado         medio-alto  0.322   0.208   \n",
      "1    Técnica o tecnológica incompleta               bajo  0.311   0.215   \n",
      "2  Secundaria (Bachillerato) completa               bajo  0.297   0.214   \n",
      "3  Secundaria (Bachillerato) completa               alto  0.485   0.172   \n",
      "4                   Primaria completa         medio-bajo  0.316   0.232   \n",
      "\n",
      "   coef_3  coef_4  \n",
      "0   0.310   0.267  \n",
      "1   0.292   0.264  \n",
      "2   0.305   0.264  \n",
      "3   0.252   0.190  \n",
      "4   0.285   0.294  \n",
      "\n",
      "[5 rows x 21 columns]\n"
     ]
    }
   ],
   "source": [
    "# Mostrar las primeras filas\n",
    "print(\"🔍 Primeras filas del archivo :\")\n",
    "print(df.head())"
   ]
  },
  {
   "cell_type": "code",
   "execution_count": 5,
   "id": "a5912f46",
   "metadata": {},
   "outputs": [
    {
     "name": "stdout",
     "output_type": "stream",
     "text": [
      "\n",
      "🔹 Info del dataset:\n",
      "<class 'pandas.core.frame.DataFrame'>\n",
      "RangeIndex: 692500 entries, 0 to 692499\n",
      "Data columns (total 21 columns):\n",
      " #   Column                          Non-Null Count   Dtype  \n",
      "---  ------                          --------------   -----  \n",
      " 0   ID                              692500 non-null  int64  \n",
      " 1   PERIODO                         692500 non-null  int64  \n",
      " 2   ESTU_PRGM_ACADEMICO             692500 non-null  object \n",
      " 3   ESTU_PRGM_DEPARTAMENTO          692500 non-null  object \n",
      " 4   ESTU_VALORMATRICULAUNIVERSIDAD  686213 non-null  object \n",
      " 5   ESTU_HORASSEMANATRABAJA         661643 non-null  object \n",
      " 6   FAMI_ESTRATOVIVIENDA            660363 non-null  object \n",
      " 7   FAMI_TIENEINTERNET              665871 non-null  object \n",
      " 8   FAMI_EDUCACIONPADRE             669322 non-null  object \n",
      " 9   FAMI_TIENELAVADORA              652727 non-null  object \n",
      " 10  FAMI_TIENEAUTOMOVIL             648877 non-null  object \n",
      " 11  ESTU_PRIVADO_LIBERTAD           692500 non-null  object \n",
      " 12  ESTU_PAGOMATRICULAPROPIO        686002 non-null  object \n",
      " 13  FAMI_TIENECOMPUTADOR            654397 non-null  object \n",
      " 14  FAMI_TIENEINTERNET.1            665871 non-null  object \n",
      " 15  FAMI_EDUCACIONMADRE             668836 non-null  object \n",
      " 16  RENDIMIENTO_GLOBAL              692500 non-null  object \n",
      " 17  coef_1                          692500 non-null  float64\n",
      " 18  coef_2                          692500 non-null  float64\n",
      " 19  coef_3                          692500 non-null  float64\n",
      " 20  coef_4                          692500 non-null  float64\n",
      "dtypes: float64(4), int64(2), object(15)\n",
      "memory usage: 111.0+ MB\n"
     ]
    }
   ],
   "source": [
    "print(\"\\n🔹 Info del dataset:\")\n",
    "df.info()"
   ]
  }
 ],
 "metadata": {
  "kernelspec": {
   "display_name": "Python 3",
   "language": "python",
   "name": "python3"
  },
  "language_info": {
   "codemirror_mode": {
    "name": "ipython",
    "version": 3
   },
   "file_extension": ".py",
   "mimetype": "text/x-python",
   "name": "python",
   "nbconvert_exporter": "python",
   "pygments_lexer": "ipython3",
   "version": "3.12.3"
  }
 },
 "nbformat": 4,
 "nbformat_minor": 5
}
