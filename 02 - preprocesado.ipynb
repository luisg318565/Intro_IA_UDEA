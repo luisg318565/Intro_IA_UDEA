{
 "cells": [
  {
   "cell_type": "code",
   "execution_count": null,
   "id": "fc9a0aad",
   "metadata": {},
   "outputs": [],
   "source": [
    "import pandas as pd\n",
    "# Ruta al archivo CSV (ajústala si tu archivo está en otra carpeta)\n",
    "csv_path = \"train.csv\"\n",
    "#hola\n",
    "# Leer el archivo CSV\n",
    "df = pd.read_csv(csv_path)"
   ]
  }
 ],
 "metadata": {
  "language_info": {
   "name": "python"
  }
 },
 "nbformat": 4,
 "nbformat_minor": 5
}
