{
 "cells": [
  {
   "cell_type": "code",
   "execution_count": 11,
   "id": "3c10e4f6",
   "metadata": {},
   "outputs": [],
   "source": [
    "import pandas as pd"
   ]
  },
  {
   "cell_type": "code",
   "execution_count": 12,
   "id": "6994d19c",
   "metadata": {},
   "outputs": [],
   "source": [
    "# Ruta al archivo CSV (ajústala si tu archivo está en otra carpeta)\n",
    "csv_path = \"train.csv\"\n",
    "\n",
    "# Leer el archivo CSV\n",
    "df = pd.read_csv(csv_path)"
   ]
  },
  {
   "cell_type": "code",
   "execution_count": 13,
   "id": "74768664",
   "metadata": {},
   "outputs": [
    {
     "name": "stdout",
     "output_type": "stream",
     "text": [
      "🔍 Primeras filas del archivo:\n",
      "       ID  PERIODO         ESTU_PRGM_ACADEMICO ESTU_PRGM_DEPARTAMENTO  \\\n",
      "0  904256    20212                  ENFERMERIA                 BOGOTÁ   \n",
      "1  645256    20212                     DERECHO              ATLANTICO   \n",
      "2  308367    20203       MERCADEO Y PUBLICIDAD                 BOGOTÁ   \n",
      "3  470353    20195  ADMINISTRACION DE EMPRESAS              SANTANDER   \n",
      "4  989032    20212                  PSICOLOGIA              ANTIOQUIA   \n",
      "\n",
      "             ESTU_VALORMATRICULAUNIVERSIDAD ESTU_HORASSEMANATRABAJA  \\\n",
      "0  Entre 5.5 millones y menos de 7 millones       Menos de 10 horas   \n",
      "1  Entre 2.5 millones y menos de 4 millones                       0   \n",
      "2  Entre 2.5 millones y menos de 4 millones         Más de 30 horas   \n",
      "3  Entre 4 millones y menos de 5.5 millones                       0   \n",
      "4  Entre 2.5 millones y menos de 4 millones     Entre 21 y 30 horas   \n",
      "\n",
      "  FAMI_ESTRATOVIVIENDA FAMI_TIENEINTERNET                 FAMI_EDUCACIONPADRE  \\\n",
      "0            Estrato 3                 Si    Técnica o tecnológica incompleta   \n",
      "1            Estrato 3                 No      Técnica o tecnológica completa   \n",
      "2            Estrato 3                 Si  Secundaria (Bachillerato) completa   \n",
      "3            Estrato 4                 Si                             No sabe   \n",
      "4            Estrato 3                 Si                   Primaria completa   \n",
      "\n",
      "  FAMI_TIENELAVADORA  ... ESTU_PRIVADO_LIBERTAD ESTU_PAGOMATRICULAPROPIO  \\\n",
      "0                 Si  ...                     N                       No   \n",
      "1                 Si  ...                     N                       No   \n",
      "2                 Si  ...                     N                       No   \n",
      "3                 Si  ...                     N                       No   \n",
      "4                 Si  ...                     N                       No   \n",
      "\n",
      "  FAMI_TIENECOMPUTADOR FAMI_TIENEINTERNET.1  \\\n",
      "0                   Si                   Si   \n",
      "1                   Si                   No   \n",
      "2                   No                   Si   \n",
      "3                   Si                   Si   \n",
      "4                   Si                   Si   \n",
      "\n",
      "                  FAMI_EDUCACIONMADRE RENDIMIENTO_GLOBAL coef_1  coef_2  \\\n",
      "0                           Postgrado         medio-alto  0.322   0.208   \n",
      "1    Técnica o tecnológica incompleta               bajo  0.311   0.215   \n",
      "2  Secundaria (Bachillerato) completa               bajo  0.297   0.214   \n",
      "3  Secundaria (Bachillerato) completa               alto  0.485   0.172   \n",
      "4                   Primaria completa         medio-bajo  0.316   0.232   \n",
      "\n",
      "   coef_3  coef_4  \n",
      "0   0.310   0.267  \n",
      "1   0.292   0.264  \n",
      "2   0.305   0.264  \n",
      "3   0.252   0.190  \n",
      "4   0.285   0.294  \n",
      "\n",
      "[5 rows x 21 columns]\n"
     ]
    }
   ],
   "source": [
    "# Mostrar las primeras filas\n",
    "print(\"🔍 Primeras filas del archivo:\")\n",
    "print(df.head())"
   ]
  }
 ],
 "metadata": {
  "kernelspec": {
   "display_name": "Python 3",
   "language": "python",
   "name": "python3"
  },
  "language_info": {
   "codemirror_mode": {
    "name": "ipython",
    "version": 3
   },
   "file_extension": ".py",
   "mimetype": "text/x-python",
   "name": "python",
   "nbconvert_exporter": "python",
   "pygments_lexer": "ipython3",
   "version": "3.12.3"
  }
 },
 "nbformat": 4,
 "nbformat_minor": 5
}
